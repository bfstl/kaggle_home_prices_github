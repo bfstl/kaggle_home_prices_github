{
 "cells": [
  {
   "cell_type": "code",
   "execution_count": 1,
   "metadata": {
    "collapsed": true
   },
   "outputs": [],
   "source": [
    "import pandas as pd\n",
    "import numpy as np\n",
    "pd.options.display.float_format = '{:20,.4f}'.format"
   ]
  },
  {
   "cell_type": "markdown",
   "metadata": {},
   "source": [
    "## Bring in the Data"
   ]
  },
  {
   "cell_type": "code",
   "execution_count": 2,
   "metadata": {
    "collapsed": true
   },
   "outputs": [],
   "source": [
    "test = pd.read_csv(\"test.csv\")\n",
    "del test[\"GarageYrBlt\"]\n",
    "del test['Exterior1st']\n",
    "del test['Exterior2nd']\n",
    "del test[\"Condition2\"]\n",
    "del test['MSSubClass']\n",
    "del test[\"Utilities\"]"
   ]
  },
  {
   "cell_type": "markdown",
   "metadata": {},
   "source": [
    "## Variable Exploration"
   ]
  },
  {
   "cell_type": "code",
   "execution_count": 3,
   "metadata": {},
   "outputs": [],
   "source": [
    "#impute some missing values\n",
    "columns = [\"PoolQC\", \"MiscFeature\", \"Alley\", \"Fence\", \"FireplaceQu\", \n",
    "           \"GarageType\", \"GarageCond\", \"GarageFinish\", \"GarageQual\", \n",
    "           \"BsmtExposure\", \"BsmtFinType2\", \"BsmtFinType1\", \"BsmtCond\", \"BsmtQual\"]\n",
    "\n",
    "for col in columns:\n",
    "    test[col] = test[col].fillna(\"NA\")\n",
    "    \n",
    "test[\"LotFrontage\"] = test[\"LotFrontage\"].fillna(0)"
   ]
  },
  {
   "cell_type": "code",
   "execution_count": 4,
   "metadata": {
    "collapsed": true
   },
   "outputs": [],
   "source": [
    "test_con_cols = ['LotFrontage', 'LotArea',  'MasVnrArea','BsmtFinSF1', 'BsmtFinSF2', 'BsmtUnfSF','TotalBsmtSF',\n",
    "                  '1stFlrSF', '2ndFlrSF','LowQualFinSF','GrLivArea','GarageArea','WoodDeckSF', 'OpenPorchSF',\n",
    "                  'EnclosedPorch','3SsnPorch','ScreenPorch','PoolArea','MiscVal']\n",
    "\n",
    "test_counts_cols = ['BsmtFullBath','BsmtHalfBath', 'FullBath', 'HalfBath', 'BedroomAbvGr', 'MSZoning', \n",
    "                     'KitchenAbvGr', 'TotRmsAbvGrd',  'Fireplaces', 'GarageCars', \"remodel_flag\", \"shed_flag\",\n",
    "                   \"pool_flag\"]\n",
    "\n",
    "test_cat = [\"EraBuilt\", \"SeasonSold\", \"Neighborhood\", \"HouseStyle\",'Street',\n",
    "             'OverallQual', 'OverallCond','Alley','LotShape','LandContour','MSZoning',\n",
    "             'LotConfig','LandSlope','Condition1', 'BldgType','HouseStyle','RoofStyle',\n",
    "             'RoofMatl', 'MasVnrType', 'ExterQual','ExterCond','Foundation','BsmtQual','BsmtCond',\n",
    "             'BsmtExposure','BsmtFinType1','BsmtFinType2','Heating','HeatingQC','CentralAir','Electrical',\n",
    "             'KitchenQual','Functional','FireplaceQu','GarageType','GarageFinish','GarageQual','GarageCond',\n",
    "             'PavedDrive', 'Fence','SaleType','SaleCondition']\n",
    "\n",
    "drop_cols = [\"YearBuilt\", \"MoSold\", 'YearRemodAdd', \"MiscFeature\", \"PoolQC\"]"
   ]
  },
  {
   "cell_type": "markdown",
   "metadata": {},
   "source": [
    "## Categorical Variables"
   ]
  },
  {
   "cell_type": "code",
   "execution_count": 5,
   "metadata": {
    "collapsed": true
   },
   "outputs": [],
   "source": [
    "test[\"Heating\"] = np.where(test[\"Heating\"].str.contains(\"Gas\"), \"Gas\", \"Other\")\n",
    "test[\"Electrical\"] = np.where(test[\"Electrical\"] == \"SBrkr\", \"SBrkr\", \"Other\")\n",
    "test[\"GarageQual\"] = np.where(test[\"GarageQual\"].isin([\"TA\", \"Gd\", \"Ex\"]), \"tpyical_good\", \"none_other\")\n",
    "test[\"pool_flag\"] = np.where(test[\"PoolQC\"] == \"NA\", 0, 1)\n",
    "test[\"shed_flag\"] = np.where(test[\"MiscFeature\"] == \"Shed\", 1, 0)"
   ]
  },
  {
   "cell_type": "code",
   "execution_count": 6,
   "metadata": {
    "collapsed": true
   },
   "outputs": [],
   "source": [
    "test[\"SaleType\"] = np.where(~test[\"SaleType\"].isin([\"WD\", \"New\"]), \"Other\", test[\"SaleType\"])"
   ]
  },
  {
   "cell_type": "code",
   "execution_count": 7,
   "metadata": {
    "collapsed": true
   },
   "outputs": [],
   "source": [
    "test[\"Condition1\"] = np.where(test[\"Condition1\"].isin([\"RRAn\", \"RRAe\", \"RRNn\", \"RRNe\"]), \"rr_adj\",\n",
    "                           np.where(test[\"Condition1\"].isin([\"Artery\", \"Feedr\"]), \"road_adj\",\n",
    "                              np.where(test[\"Condition1\"].isin([\"PosA\", \"PosN\"]), \"pos_adj\", \n",
    "                                       \"norm\"\n",
    "                           )))"
   ]
  },
  {
   "cell_type": "code",
   "execution_count": 8,
   "metadata": {
    "collapsed": true
   },
   "outputs": [],
   "source": [
    "test[\"EraBuilt\"] = np.where(test[\"YearBuilt\"] < 1950, \"pre_1950\", \n",
    "                          np.where(test[\"YearBuilt\"] < 1960, \"1950s\", \n",
    "                             np.where(test[\"YearBuilt\"] < 1970, \"1960s\",\n",
    "                                np.where(test[\"YearBuilt\"] < 1980, \"1970s\", \n",
    "                                   np.where(test[\"YearBuilt\"] < 1990, \"1980s\", \n",
    "                                      np.where(test[\"YearBuilt\"] < 2000, \"1990s\", \n",
    "                                         \"2000s\"))))))"
   ]
  },
  {
   "cell_type": "code",
   "execution_count": 9,
   "metadata": {
    "collapsed": true
   },
   "outputs": [],
   "source": [
    "test[\"SeasonSold\"] = np.where(test[\"MoSold\"].isin([12, 1, 2]), \"Winter\", \n",
    "                           np.where(test[\"MoSold\"].isin([3, 4, 5]), \"Spring\", \n",
    "                              np.where(test[\"MoSold\"].isin([6, 7, 8]), \"Summer\",\n",
    "                                       \"Fall\")))"
   ]
  },
  {
   "cell_type": "code",
   "execution_count": 10,
   "metadata": {
    "collapsed": true
   },
   "outputs": [],
   "source": [
    "test[\"remodel_flag\"] = np.where(test[\"YearBuilt\"] != test['YearRemodAdd'], 1, 0)"
   ]
  },
  {
   "cell_type": "code",
   "execution_count": 11,
   "metadata": {
    "collapsed": true
   },
   "outputs": [],
   "source": [
    "test['MSZoning'] = np.where(test['MSZoning'].str.contains(\"R\"), \"res\", \"non_res\")\n",
    "test[\"RoofMatl\"] = np.where(test[\"RoofMatl\"] == \"CompShg\", \"CompShg\", \"other\")"
   ]
  },
  {
   "cell_type": "code",
   "execution_count": 12,
   "metadata": {},
   "outputs": [],
   "source": [
    "highend_hoods = [\"NoRidge\", \"NridgeHt\", \"StoneBr\", \"Timber\", \"Veenker\", \"Somerst\", \n",
    "                 \"ClearCr\", \"Crawfor\"]\n",
    "midend_hoods = [\"CollgCr\", \"Blmngtn\", \"Gilbert\", \"NWAmes\", \"SawyerW\", \"Mitchel\", \n",
    "                \"NAMes\", \"NPkVill\"]\n",
    "lowend_hoods = [\"SWISU\", \"Blueste\", \"Sawyer\", \"OldTown\", \"Edwards\",\"BrkSide\", \"BrDale\", \n",
    "                \"IDOTRR\", \"MeadowV\"]\n",
    "test[\"Neighborhood\"] = np.where(test[\"Neighborhood\"].isin(highend_hoods), \"highend_hood\", \n",
    "                             np.where(test[\"Neighborhood\"].isin(midend_hoods), \"midend_hood\", \n",
    "                                  \"lowend_hood\"))"
   ]
  },
  {
   "cell_type": "code",
   "execution_count": 13,
   "metadata": {
    "collapsed": true
   },
   "outputs": [],
   "source": [
    "test[\"HouseStyle\"] = np.where(test[\"HouseStyle\"].isin([\"1Story\", \"1.5Fin\", \"1.5Unf\"]), \"1Story\", \n",
    "                             np.where(test[\"HouseStyle\"].isin([\"2Story\", \"2.5Fin\", \"2.5Unf\"]), \"2Story\",\n",
    "                                     \"Split\"))"
   ]
  },
  {
   "cell_type": "code",
   "execution_count": 14,
   "metadata": {},
   "outputs": [],
   "source": [
    "test['OverallQual'] = np.where(test['OverallQual'] <= 5, \"bad_quality\", \n",
    "                            np.where(test['OverallQual'] <= 7, \"med_quality\", \n",
    "                                     \"high_quality\"))"
   ]
  },
  {
   "cell_type": "code",
   "execution_count": 15,
   "metadata": {},
   "outputs": [],
   "source": [
    "test['OverallCond'] = np.where(test['OverallCond'] <= 4, \"bad_cond\", \n",
    "                            np.where(test['OverallCond'] == 5, \"med_cond\", \n",
    "                                     \"great_cond\"))"
   ]
  },
  {
   "cell_type": "markdown",
   "metadata": {},
   "source": [
    "## Scaling"
   ]
  },
  {
   "cell_type": "code",
   "execution_count": 16,
   "metadata": {
    "collapsed": true
   },
   "outputs": [],
   "source": [
    "from sklearn import preprocessing"
   ]
  },
  {
   "cell_type": "code",
   "execution_count": 17,
   "metadata": {
    "collapsed": true
   },
   "outputs": [],
   "source": [
    "from sklearn.preprocessing import MinMaxScaler\n",
    "scaler = MinMaxScaler()\n",
    "test[test_con_cols] = scaler.fit_transform(test[test_con_cols].fillna(0))"
   ]
  },
  {
   "cell_type": "markdown",
   "metadata": {},
   "source": [
    "## Data For Model"
   ]
  },
  {
   "cell_type": "code",
   "execution_count": 18,
   "metadata": {},
   "outputs": [],
   "source": [
    "# Get Dummy Variables\n",
    "test_model = pd.get_dummies(test, columns = test_cat)\n",
    "# Drop Duplicates\n",
    "test_model = test_model.drop(test_cat, axis= 1).drop(drop_cols, axis = 1)"
   ]
  },
  {
   "cell_type": "code",
   "execution_count": 19,
   "metadata": {
    "collapsed": true
   },
   "outputs": [],
   "source": [
    "test_model.to_csv(\"test_model.csv\")"
   ]
  },
  {
   "cell_type": "code",
   "execution_count": 20,
   "metadata": {},
   "outputs": [
    {
     "data": {
      "text/plain": [
       "(1459, 211)"
      ]
     },
     "execution_count": 20,
     "metadata": {},
     "output_type": "execute_result"
    }
   ],
   "source": [
    "test_model.shape"
   ]
  },
  {
   "cell_type": "code",
   "execution_count": null,
   "metadata": {
    "collapsed": true
   },
   "outputs": [],
   "source": []
  }
 ],
 "metadata": {
  "anaconda-cloud": {},
  "kernelspec": {
   "display_name": "Python 3",
   "language": "python",
   "name": "python3"
  },
  "language_info": {
   "codemirror_mode": {
    "name": "ipython",
    "version": 3
   },
   "file_extension": ".py",
   "mimetype": "text/x-python",
   "name": "python",
   "nbconvert_exporter": "python",
   "pygments_lexer": "ipython3",
   "version": "3.6.0"
  }
 },
 "nbformat": 4,
 "nbformat_minor": 1
}
