{
 "cells": [
  {
   "cell_type": "code",
   "execution_count": 1,
   "metadata": {
    "collapsed": true
   },
   "outputs": [],
   "source": [
    "import pandas as pd\n",
    "import numpy as np\n",
    "pd.options.display.float_format = '{:20,.4f}'.format"
   ]
  },
  {
   "cell_type": "markdown",
   "metadata": {},
   "source": [
    "## Bring in the Data"
   ]
  },
  {
   "cell_type": "code",
   "execution_count": 2,
   "metadata": {
    "collapsed": true
   },
   "outputs": [],
   "source": [
    "train = pd.read_csv(\"data/train.csv\")\n",
    "del train[\"GarageYrBlt\"]\n",
    "del train['Exterior1st']\n",
    "del train['Exterior2nd']\n",
    "del train[\"Condition2\"]\n",
    "del train['MSSubClass']\n",
    "del train[\"Utilities\"]\n",
    "train_x = train.drop(\"SalePrice\", axis = 1)\n",
    "train_y = train[\"SalePrice\"]"
   ]
  },
  {
   "cell_type": "markdown",
   "metadata": {},
   "source": [
    "## Variable Exploration"
   ]
  },
  {
   "cell_type": "code",
   "execution_count": 3,
   "metadata": {
    "collapsed": true
   },
   "outputs": [],
   "source": [
    "#impute some missing values\n",
    "columns = [\"PoolQC\", \"MiscFeature\", \"Alley\", \"Fence\", \"FireplaceQu\", \n",
    "           \"GarageType\", \"GarageCond\", \"GarageFinish\", \"GarageQual\", \n",
    "           \"BsmtExposure\", \"BsmtFinType2\", \"BsmtFinType1\", \"BsmtCond\", \"BsmtQual\"]\n",
    "\n",
    "for col in columns:\n",
    "    train_x[col] = train_x[col].fillna(\"NA\")\n",
    "    \n",
    "train_x[\"LotFrontage\"] = train_x[\"LotFrontage\"].fillna(0)"
   ]
  },
  {
   "cell_type": "code",
   "execution_count": 4,
   "metadata": {
    "collapsed": true
   },
   "outputs": [],
   "source": [
    "train_con_cols = ['LotFrontage', 'LotArea',  'MasVnrArea','BsmtFinSF1', 'BsmtFinSF2', 'BsmtUnfSF','TotalBsmtSF',\n",
    "                  '1stFlrSF', '2ndFlrSF','LowQualFinSF','GrLivArea','GarageArea','WoodDeckSF', 'OpenPorchSF',\n",
    "                  'EnclosedPorch','3SsnPorch','ScreenPorch','PoolArea','MiscVal']\n",
    "\n",
    "train_counts_cols = ['BsmtFullBath','BsmtHalfBath', 'FullBath', 'HalfBath', 'BedroomAbvGr', 'MSZoning', \n",
    "                     'KitchenAbvGr', 'TotRmsAbvGrd',  'Fireplaces', 'GarageCars', \"remodel_flag\", \"shed_flag\",\n",
    "                     \"pool_flag\"\n",
    "                     ]\n",
    "\n",
    "train_cat = [\"EraBuilt\", \"SeasonSold\", \"Neighborhood\", \"HouseStyle\",'Street',\n",
    "             'OverallQual', 'OverallCond','Alley','LotShape','LandContour','MSZoning',\n",
    "             'LotConfig','LandSlope','Condition1', 'BldgType','HouseStyle','RoofStyle',\n",
    "             'RoofMatl', 'MasVnrType', 'ExterQual','ExterCond','Foundation','BsmtQual','BsmtCond',\n",
    "             'BsmtExposure','BsmtFinType1','BsmtFinType2','Heating','HeatingQC','CentralAir','Electrical',\n",
    "             'KitchenQual','Functional','FireplaceQu','GarageType','GarageFinish','GarageQual','GarageCond',\n",
    "             'PavedDrive', 'Fence','SaleType','SaleCondition']\n",
    "\n",
    "drop_cols = [\"YearBuilt\", \"MoSold\", 'YearRemodAdd', \"MiscFeature\", \"PoolQC\"]"
   ]
  },
  {
   "cell_type": "markdown",
   "metadata": {},
   "source": [
    "## Categorical Variables"
   ]
  },
  {
   "cell_type": "code",
   "execution_count": 5,
   "metadata": {
    "collapsed": true
   },
   "outputs": [],
   "source": [
    "train_x[\"Heating\"] = np.where(train_x[\"Heating\"].str.contains(\"Gas\"), \"Gas\", \"Other\")\n",
    "train_x[\"Electrical\"] = np.where(train_x[\"Electrical\"] == \"SBrkr\", \"SBrkr\", \"Other\")\n",
    "train_x[\"GarageQual\"] = np.where(train_x[\"GarageQual\"].isin([\"TA\", \"Gd\", \"Ex\"]), \"tpyical_good\", \"none_other\")\n",
    "train_x[\"pool_flag\"] = np.where(train_x[\"PoolQC\"] == \"NA\", 0, 1)\n",
    "train_x[\"shed_flag\"] = np.where(train_x[\"MiscFeature\"] == \"Shed\", 1, 0)"
   ]
  },
  {
   "cell_type": "code",
   "execution_count": 6,
   "metadata": {
    "collapsed": true
   },
   "outputs": [],
   "source": [
    "train_x[\"SaleType\"] = np.where(~train_x[\"SaleType\"].isin([\"WD\", \"New\"]), \"Other\", train_x[\"SaleType\"])"
   ]
  },
  {
   "cell_type": "code",
   "execution_count": 7,
   "metadata": {
    "collapsed": true
   },
   "outputs": [],
   "source": [
    "train_x[\"Condition1\"] = np.where(train_x[\"Condition1\"].isin([\"RRAn\", \"RRAe\", \"RRNn\", \"RRNe\"]), \"rr_adj\",\n",
    "                           np.where(train_x[\"Condition1\"].isin([\"Artery\", \"Feedr\"]), \"road_adj\",\n",
    "                              np.where(train_x[\"Condition1\"].isin([\"PosA\", \"PosN\"]), \"pos_adj\", \n",
    "                                       \"norm\"\n",
    "                           )))"
   ]
  },
  {
   "cell_type": "code",
   "execution_count": 8,
   "metadata": {
    "collapsed": true
   },
   "outputs": [],
   "source": [
    "train_x[\"EraBuilt\"] = np.where(train_x[\"YearBuilt\"] < 1950, \"pre_1950\", \n",
    "                          np.where(train_x[\"YearBuilt\"] < 1960, \"1950s\", \n",
    "                             np.where(train_x[\"YearBuilt\"] < 1970, \"1960s\",\n",
    "                                np.where(train_x[\"YearBuilt\"] < 1980, \"1970s\", \n",
    "                                   np.where(train_x[\"YearBuilt\"] < 1990, \"1980s\", \n",
    "                                      np.where(train_x[\"YearBuilt\"] < 2000, \"1990s\", \n",
    "                                         \"2000s\"))))))"
   ]
  },
  {
   "cell_type": "code",
   "execution_count": 9,
   "metadata": {
    "collapsed": true
   },
   "outputs": [],
   "source": [
    "train_x[\"SeasonSold\"] = np.where(train_x[\"MoSold\"].isin([12, 1, 2]), \"Winter\", \n",
    "                           np.where(train_x[\"MoSold\"].isin([3, 4, 5]), \"Spring\", \n",
    "                              np.where(train_x[\"MoSold\"].isin([6, 7, 8]), \"Summer\",\n",
    "                                       \"Fall\")))"
   ]
  },
  {
   "cell_type": "code",
   "execution_count": 10,
   "metadata": {
    "collapsed": true
   },
   "outputs": [],
   "source": [
    "train_x[\"remodel_flag\"] = np.where(train_x[\"YearBuilt\"] != train_x['YearRemodAdd'], 1, 0)"
   ]
  },
  {
   "cell_type": "code",
   "execution_count": 11,
   "metadata": {
    "collapsed": true
   },
   "outputs": [],
   "source": [
    "train_x['MSZoning'] = np.where(train_x['MSZoning'].str.contains(\"R\"), \"res\", \"non_res\")\n",
    "train_x[\"RoofMatl\"] = np.where(train_x[\"RoofMatl\"] == \"CompShg\", \"CompShg\", \"other\")"
   ]
  },
  {
   "cell_type": "code",
   "execution_count": 12,
   "metadata": {
    "collapsed": true
   },
   "outputs": [],
   "source": [
    "train.groupby([\"Neighborhood\"])[\"SalePrice\"].describe().reset_index().sort_values(\"mean\",\n",
    "                                                                                  ascending = False)\n",
    "highend_hoods = [\"NoRidge\", \"NridgeHt\", \"StoneBr\", \"Timber\", \"Veenker\", \"Somerst\", \n",
    "                 \"ClearCr\", \"Crawfor\"]\n",
    "midend_hoods = [\"CollgCr\", \"Blmngtn\", \"Gilbert\", \"NWAmes\", \"SawyerW\", \"Mitchel\", \n",
    "                \"NAMes\", \"NPkVill\"]\n",
    "lowend_hoods = [\"SWISU\", \"Blueste\", \"Sawyer\", \"OldTown\", \"Edwards\",\"BrkSide\", \"BrDale\", \n",
    "                \"IDOTRR\", \"MeadowV\"]\n",
    "train_x[\"Neighborhood\"] = np.where(train_x[\"Neighborhood\"].isin(highend_hoods), \"highend_hood\", \n",
    "                             np.where(train_x[\"Neighborhood\"].isin(midend_hoods), \"midend_hood\", \n",
    "                                  \"lowend_hood\"))"
   ]
  },
  {
   "cell_type": "code",
   "execution_count": 13,
   "metadata": {
    "collapsed": true
   },
   "outputs": [],
   "source": [
    "train_x[\"HouseStyle\"] = np.where(train_x[\"HouseStyle\"].isin([\"1Story\", \"1.5Fin\", \"1.5Unf\"]), \"1Story\", \n",
    "                             np.where(train_x[\"HouseStyle\"].isin([\"2Story\", \"2.5Fin\", \"2.5Unf\"]), \"2Story\",\n",
    "                                     \"Split\"))"
   ]
  },
  {
   "cell_type": "code",
   "execution_count": 14,
   "metadata": {
    "collapsed": true
   },
   "outputs": [],
   "source": [
    "train_x['OverallQual'] = np.where(train_x['OverallQual'] <= 5, \"bad_quality\", \n",
    "                            np.where(train_x['OverallQual'] <= 7, \"med_quality\", \n",
    "                                     \"high_quality\"))"
   ]
  },
  {
   "cell_type": "code",
   "execution_count": 15,
   "metadata": {
    "collapsed": true
   },
   "outputs": [],
   "source": [
    "train_x['OverallCond'] = np.where(train_x['OverallCond'] <= 4, \"bad_cond\", \n",
    "                            np.where(train_x['OverallCond'] == 5, \"med_cond\", \n",
    "                                     \"great_cond\"))"
   ]
  },
  {
   "cell_type": "markdown",
   "metadata": {},
   "source": [
    "## Scaling"
   ]
  },
  {
   "cell_type": "code",
   "execution_count": 17,
   "metadata": {
    "collapsed": true
   },
   "outputs": [],
   "source": [
    "from sklearn.preprocessing import MinMaxScaler\n",
    "scaler = MinMaxScaler()\n",
    "train_x[train_con_cols] = scaler.fit_transform(train_x[train_con_cols].fillna(0))"
   ]
  },
  {
   "cell_type": "markdown",
   "metadata": {},
   "source": [
    "## Data For Model"
   ]
  },
  {
   "cell_type": "code",
   "execution_count": 18,
   "metadata": {
    "collapsed": true
   },
   "outputs": [],
   "source": [
    "# Get Dummy Variables\n",
    "train_model = pd.get_dummies(train_x, columns = train_cat)\n",
    "# Drop Duplicates\n",
    "train_model = train_model.drop(train_cat, axis= 1).drop(drop_cols, axis = 1)"
   ]
  },
  {
   "cell_type": "code",
   "execution_count": 19,
   "metadata": {
    "collapsed": true
   },
   "outputs": [],
   "source": [
    "pd.concat([train_model,\n",
    "           train_y], axis = 1).to_csv(\"data/train_model.csv\")"
   ]
  },
  {
   "cell_type": "code",
   "execution_count": 20,
   "metadata": {},
   "outputs": [
    {
     "data": {
      "text/plain": [
       "(1460, 211)"
      ]
     },
     "execution_count": 20,
     "metadata": {},
     "output_type": "execute_result"
    }
   ],
   "source": [
    "train_model.shape"
   ]
  },
  {
   "cell_type": "code",
   "execution_count": null,
   "metadata": {
    "collapsed": true
   },
   "outputs": [],
   "source": []
  },
  {
   "cell_type": "code",
   "execution_count": null,
   "metadata": {
    "collapsed": true
   },
   "outputs": [],
   "source": []
  },
  {
   "cell_type": "code",
   "execution_count": null,
   "metadata": {
    "collapsed": true
   },
   "outputs": [],
   "source": []
  }
 ],
 "metadata": {
  "anaconda-cloud": {},
  "kernelspec": {
   "display_name": "Python 3",
   "language": "python",
   "name": "python3"
  },
  "language_info": {
   "codemirror_mode": {
    "name": "ipython",
    "version": 3
   },
   "file_extension": ".py",
   "mimetype": "text/x-python",
   "name": "python",
   "nbconvert_exporter": "python",
   "pygments_lexer": "ipython3",
   "version": "3.6.0"
  }
 },
 "nbformat": 4,
 "nbformat_minor": 1
}
